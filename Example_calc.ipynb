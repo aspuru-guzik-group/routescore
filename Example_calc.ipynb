{
 "cells": [
  {
   "cell_type": "markdown",
   "source": [
    "First, some housekeeping..."
   ],
   "metadata": {
    "collapsed": false,
    "pycharm": {
     "name": "#%% md\n"
    }
   }
  },
  {
   "cell_type": "code",
   "execution_count": 137,
   "outputs": [],
   "source": [
    "import pandas as pd\n",
    "from rdkit import Chem\n",
    "from rdkit.Chem import Draw\n",
    "from rdkit.Chem import Descriptors\n",
    "from rdkit.Chem import rdChemReactions as Reactions\n",
    "\n",
    "# Define directories\n",
    "SMRY_DIR = 'Rxn_Summs'\n",
    "TYPE_DIR = 'Rxn_Type'\n",
    "INV_DIR = 'Inventory'\n",
    "PROP_DIR = 'Properties'"
   ],
   "metadata": {
    "collapsed": false,
    "pycharm": {
     "name": "#%%\n"
    }
   }
  },
  {
   "cell_type": "markdown",
   "metadata": {
    "collapsed": true,
    "pycharm": {
     "name": "#%% md\n"
    }
   },
   "source": [
    "This Jupyter notebook is meant to serve as an example of how RouteScore is calculated in `RS_Base.py`.\n",
    "All other RouteScore calculations are performed the same way.\n",
    "\n",
    "First, import the various classes from `routescore.py`"
   ]
  },
  {
   "cell_type": "code",
   "source": [
    "from routescore import General, Reaction_Templates, Calculate\n",
    "gen = General()\n",
    "rxn = Reaction_Templates()\n",
    "calc = Calculate()"
   ],
   "metadata": {
    "collapsed": false,
    "pycharm": {
     "name": "#%%\n"
    }
   },
   "execution_count": 138,
   "outputs": []
  },
  {
   "cell_type": "markdown",
   "source": [
    "Next, load a molecule from the targets list. Here, we will choose the molecule with the lowest RouteScore\n",
    "\n",
    "We can skip lines 10-16 in `RS_Base.py` because they aren't required for calculating the RouteScore."
   ],
   "metadata": {
    "collapsed": false,
    "pycharm": {
     "name": "#%% md\n"
    }
   }
  },
  {
   "cell_type": "code",
   "execution_count": 139,
   "outputs": [
    {
     "data": {
      "text/plain": "<IPython.core.display.SVG object>",
      "image/svg+xml": "<svg baseProfile=\"full\" height=\"200px\" version=\"1.1\" viewBox=\"0 0 600 200\" width=\"600px\" xml:space=\"preserve\" xmlns=\"http://www.w3.org/2000/svg\" xmlns:rdkit=\"http://www.rdkit.org/xml\" xmlns:xlink=\"http://www.w3.org/1999/xlink\">\n<!-- END OF HEADER -->\n<rect height=\"200\" style=\"opacity:1.0;fill:#FFFFFF;stroke:none\" width=\"600\" x=\"0\" y=\"0\"> </rect>\n<path class=\"bond-0\" d=\"M 118.127,136.145 L 137.809,147.509\" style=\"fill:none;fill-rule:evenodd;stroke:#000000;stroke-width:2px;stroke-linecap:butt;stroke-linejoin:miter;stroke-opacity:1\"/>\n<path class=\"bond-0\" d=\"M 123.352,133.913 L 137.129,141.868\" style=\"fill:none;fill-rule:evenodd;stroke:#000000;stroke-width:2px;stroke-linecap:butt;stroke-linejoin:miter;stroke-opacity:1\"/>\n<path class=\"bond-27\" d=\"M 118.127,136.145 L 122.852,113.914\" style=\"fill:none;fill-rule:evenodd;stroke:#000000;stroke-width:2px;stroke-linecap:butt;stroke-linejoin:miter;stroke-opacity:1\"/>\n<path class=\"bond-1\" d=\"M 137.809,147.509 L 144.485,141.498\" style=\"fill:none;fill-rule:evenodd;stroke:#000000;stroke-width:2px;stroke-linecap:butt;stroke-linejoin:miter;stroke-opacity:1\"/>\n<path class=\"bond-1\" d=\"M 144.485,141.498 L 151.161,135.486\" style=\"fill:none;fill-rule:evenodd;stroke:#FF0000;stroke-width:2px;stroke-linecap:butt;stroke-linejoin:miter;stroke-opacity:1\"/>\n<path class=\"bond-2\" d=\"M 153.012,128.513 L 149.233,120.026\" style=\"fill:none;fill-rule:evenodd;stroke:#FF0000;stroke-width:2px;stroke-linecap:butt;stroke-linejoin:miter;stroke-opacity:1\"/>\n<path class=\"bond-2\" d=\"M 149.233,120.026 L 145.455,111.539\" style=\"fill:none;fill-rule:evenodd;stroke:#000000;stroke-width:2px;stroke-linecap:butt;stroke-linejoin:miter;stroke-opacity:1\"/>\n<path class=\"bond-3\" d=\"M 145.455,111.539 L 156.818,91.8562\" style=\"fill:none;fill-rule:evenodd;stroke:#000000;stroke-width:2px;stroke-linecap:butt;stroke-linejoin:miter;stroke-opacity:1\"/>\n<path class=\"bond-26\" d=\"M 145.455,111.539 L 122.852,113.914\" style=\"fill:none;fill-rule:evenodd;stroke:#000000;stroke-width:2px;stroke-linecap:butt;stroke-linejoin:miter;stroke-opacity:1\"/>\n<path class=\"bond-26\" d=\"M 142.539,116.416 L 126.717,118.078\" style=\"fill:none;fill-rule:evenodd;stroke:#000000;stroke-width:2px;stroke-linecap:butt;stroke-linejoin:miter;stroke-opacity:1\"/>\n<path class=\"bond-4\" d=\"M 156.818,91.8562 L 179.545,91.8562\" style=\"fill:none;fill-rule:evenodd;stroke:#000000;stroke-width:2px;stroke-linecap:butt;stroke-linejoin:miter;stroke-opacity:1\"/>\n<path class=\"bond-4\" d=\"M 160.227,87.3108 L 176.136,87.3108\" style=\"fill:none;fill-rule:evenodd;stroke:#000000;stroke-width:2px;stroke-linecap:butt;stroke-linejoin:miter;stroke-opacity:1\"/>\n<path class=\"bond-28\" d=\"M 156.818,91.8562 L 145.455,72.1738\" style=\"fill:none;fill-rule:evenodd;stroke:#000000;stroke-width:2px;stroke-linecap:butt;stroke-linejoin:miter;stroke-opacity:1\"/>\n<path class=\"bond-5\" d=\"M 179.545,91.8562 L 190.909,72.1738\" style=\"fill:none;fill-rule:evenodd;stroke:#000000;stroke-width:2px;stroke-linecap:butt;stroke-linejoin:miter;stroke-opacity:1\"/>\n<path class=\"bond-6\" d=\"M 190.909,72.1738 L 179.545,52.4915\" style=\"fill:none;fill-rule:evenodd;stroke:#000000;stroke-width:2px;stroke-linecap:butt;stroke-linejoin:miter;stroke-opacity:1\"/>\n<path class=\"bond-6\" d=\"M 185.268,71.4942 L 177.314,57.7165\" style=\"fill:none;fill-rule:evenodd;stroke:#000000;stroke-width:2px;stroke-linecap:butt;stroke-linejoin:miter;stroke-opacity:1\"/>\n<path class=\"bond-7\" d=\"M 179.545,52.4915 L 156.818,52.4915\" style=\"fill:none;fill-rule:evenodd;stroke:#000000;stroke-width:2px;stroke-linecap:butt;stroke-linejoin:miter;stroke-opacity:1\"/>\n<path class=\"bond-8\" d=\"M 156.818,52.4915 L 145.455,72.1738\" style=\"fill:none;fill-rule:evenodd;stroke:#000000;stroke-width:2px;stroke-linecap:butt;stroke-linejoin:miter;stroke-opacity:1\"/>\n<path class=\"bond-8\" d=\"M 159.05,57.7165 L 151.096,71.4942\" style=\"fill:none;fill-rule:evenodd;stroke:#000000;stroke-width:2px;stroke-linecap:butt;stroke-linejoin:miter;stroke-opacity:1\"/>\n<path class=\"bond-9\" d=\"M 145.455,72.1738 L 122.727,72.1738\" style=\"fill:none;fill-rule:evenodd;stroke:#000000;stroke-width:2px;stroke-linecap:butt;stroke-linejoin:miter;stroke-opacity:1\"/>\n<path class=\"bond-10\" d=\"M 122.727,72.1738 L 111.364,52.4915\" style=\"fill:none;fill-rule:evenodd;stroke:#000000;stroke-width:2px;stroke-linecap:butt;stroke-linejoin:miter;stroke-opacity:1\"/>\n<path class=\"bond-10\" d=\"M 117.086,71.4942 L 109.132,57.7165\" style=\"fill:none;fill-rule:evenodd;stroke:#000000;stroke-width:2px;stroke-linecap:butt;stroke-linejoin:miter;stroke-opacity:1\"/>\n<path class=\"bond-29\" d=\"M 122.727,72.1738 L 111.364,91.8562\" style=\"fill:none;fill-rule:evenodd;stroke:#000000;stroke-width:2px;stroke-linecap:butt;stroke-linejoin:miter;stroke-opacity:1\"/>\n<path class=\"bond-11\" d=\"M 111.364,52.4915 L 88.6364,52.4915\" style=\"fill:none;fill-rule:evenodd;stroke:#000000;stroke-width:2px;stroke-linecap:butt;stroke-linejoin:miter;stroke-opacity:1\"/>\n<path class=\"bond-12\" d=\"M 88.6364,52.4915 L 77.2727,72.1738\" style=\"fill:none;fill-rule:evenodd;stroke:#000000;stroke-width:2px;stroke-linecap:butt;stroke-linejoin:miter;stroke-opacity:1\"/>\n<path class=\"bond-12\" d=\"M 90.8683,57.7165 L 82.9138,71.4942\" style=\"fill:none;fill-rule:evenodd;stroke:#000000;stroke-width:2px;stroke-linecap:butt;stroke-linejoin:miter;stroke-opacity:1\"/>\n<path class=\"bond-13\" d=\"M 77.2727,72.1738 L 54.5455,72.1738\" style=\"fill:none;fill-rule:evenodd;stroke:#000000;stroke-width:2px;stroke-linecap:butt;stroke-linejoin:miter;stroke-opacity:1\"/>\n<path class=\"bond-24\" d=\"M 77.2727,72.1738 L 81.8611,80.1211\" style=\"fill:none;fill-rule:evenodd;stroke:#000000;stroke-width:2px;stroke-linecap:butt;stroke-linejoin:miter;stroke-opacity:1\"/>\n<path class=\"bond-24\" d=\"M 81.8611,80.1211 L 86.4494,88.0684\" style=\"fill:none;fill-rule:evenodd;stroke:#0000FF;stroke-width:2px;stroke-linecap:butt;stroke-linejoin:miter;stroke-opacity:1\"/>\n<path class=\"bond-14\" d=\"M 54.5455,72.1738 L 43.1818,52.4915\" style=\"fill:none;fill-rule:evenodd;stroke:#000000;stroke-width:2px;stroke-linecap:butt;stroke-linejoin:miter;stroke-opacity:1\"/>\n<path class=\"bond-14\" d=\"M 48.9044,71.4942 L 40.9499,57.7165\" style=\"fill:none;fill-rule:evenodd;stroke:#000000;stroke-width:2px;stroke-linecap:butt;stroke-linejoin:miter;stroke-opacity:1\"/>\n<path class=\"bond-30\" d=\"M 54.5455,72.1738 L 43.1818,91.8562\" style=\"fill:none;fill-rule:evenodd;stroke:#000000;stroke-width:2px;stroke-linecap:butt;stroke-linejoin:miter;stroke-opacity:1\"/>\n<path class=\"bond-15\" d=\"M 43.1818,52.4915 L 20.4545,52.4915\" style=\"fill:none;fill-rule:evenodd;stroke:#000000;stroke-width:2px;stroke-linecap:butt;stroke-linejoin:miter;stroke-opacity:1\"/>\n<path class=\"bond-16\" d=\"M 20.4545,52.4915 L 9.09091,72.1738\" style=\"fill:none;fill-rule:evenodd;stroke:#000000;stroke-width:2px;stroke-linecap:butt;stroke-linejoin:miter;stroke-opacity:1\"/>\n<path class=\"bond-16\" d=\"M 22.6865,57.7165 L 14.7319,71.4942\" style=\"fill:none;fill-rule:evenodd;stroke:#000000;stroke-width:2px;stroke-linecap:butt;stroke-linejoin:miter;stroke-opacity:1\"/>\n<path class=\"bond-17\" d=\"M 9.09091,72.1738 L 20.4545,91.8562\" style=\"fill:none;fill-rule:evenodd;stroke:#000000;stroke-width:2px;stroke-linecap:butt;stroke-linejoin:miter;stroke-opacity:1\"/>\n<path class=\"bond-18\" d=\"M 20.4545,91.8562 L 43.1818,91.8562\" style=\"fill:none;fill-rule:evenodd;stroke:#000000;stroke-width:2px;stroke-linecap:butt;stroke-linejoin:miter;stroke-opacity:1\"/>\n<path class=\"bond-18\" d=\"M 23.8636,87.3108 L 39.7727,87.3108\" style=\"fill:none;fill-rule:evenodd;stroke:#000000;stroke-width:2px;stroke-linecap:butt;stroke-linejoin:miter;stroke-opacity:1\"/>\n<path class=\"bond-19\" d=\"M 43.1818,91.8562 L 54.5455,111.539\" style=\"fill:none;fill-rule:evenodd;stroke:#000000;stroke-width:2px;stroke-linecap:butt;stroke-linejoin:miter;stroke-opacity:1\"/>\n<path class=\"bond-20\" d=\"M 54.5455,111.539 L 77.1482,113.914\" style=\"fill:none;fill-rule:evenodd;stroke:#000000;stroke-width:2px;stroke-linecap:butt;stroke-linejoin:miter;stroke-opacity:1\"/>\n<path class=\"bond-20\" d=\"M 57.4607,116.416 L 73.2827,118.078\" style=\"fill:none;fill-rule:evenodd;stroke:#000000;stroke-width:2px;stroke-linecap:butt;stroke-linejoin:miter;stroke-opacity:1\"/>\n<path class=\"bond-31\" d=\"M 54.5455,111.539 L 50.7667,120.026\" style=\"fill:none;fill-rule:evenodd;stroke:#000000;stroke-width:2px;stroke-linecap:butt;stroke-linejoin:miter;stroke-opacity:1\"/>\n<path class=\"bond-31\" d=\"M 50.7667,120.026 L 46.9879,128.513\" style=\"fill:none;fill-rule:evenodd;stroke:#FF0000;stroke-width:2px;stroke-linecap:butt;stroke-linejoin:miter;stroke-opacity:1\"/>\n<path class=\"bond-21\" d=\"M 77.1482,113.914 L 81.8735,136.145\" style=\"fill:none;fill-rule:evenodd;stroke:#000000;stroke-width:2px;stroke-linecap:butt;stroke-linejoin:miter;stroke-opacity:1\"/>\n<path class=\"bond-22\" d=\"M 81.8735,136.145 L 62.1911,147.509\" style=\"fill:none;fill-rule:evenodd;stroke:#000000;stroke-width:2px;stroke-linecap:butt;stroke-linejoin:miter;stroke-opacity:1\"/>\n<path class=\"bond-22\" d=\"M 76.6484,133.913 L 62.8707,141.868\" style=\"fill:none;fill-rule:evenodd;stroke:#000000;stroke-width:2px;stroke-linecap:butt;stroke-linejoin:miter;stroke-opacity:1\"/>\n<path class=\"bond-23\" d=\"M 62.1911,147.509 L 55.5152,141.498\" style=\"fill:none;fill-rule:evenodd;stroke:#000000;stroke-width:2px;stroke-linecap:butt;stroke-linejoin:miter;stroke-opacity:1\"/>\n<path class=\"bond-23\" d=\"M 55.5152,141.498 L 48.8392,135.486\" style=\"fill:none;fill-rule:evenodd;stroke:#FF0000;stroke-width:2px;stroke-linecap:butt;stroke-linejoin:miter;stroke-opacity:1\"/>\n<path class=\"bond-25\" d=\"M 91.9195,91.8562 L 101.642,91.8562\" style=\"fill:none;fill-rule:evenodd;stroke:#0000FF;stroke-width:2px;stroke-linecap:butt;stroke-linejoin:miter;stroke-opacity:1\"/>\n<path class=\"bond-25\" d=\"M 101.642,91.8562 L 111.364,91.8562\" style=\"fill:none;fill-rule:evenodd;stroke:#000000;stroke-width:2px;stroke-linecap:butt;stroke-linejoin:miter;stroke-opacity:1\"/>\n<path class=\"bond-25\" d=\"M 94.8361,87.3108 L 101.642,87.3108\" style=\"fill:none;fill-rule:evenodd;stroke:#0000FF;stroke-width:2px;stroke-linecap:butt;stroke-linejoin:miter;stroke-opacity:1\"/>\n<path class=\"bond-25\" d=\"M 101.642,87.3108 L 108.447,87.3108\" style=\"fill:none;fill-rule:evenodd;stroke:#000000;stroke-width:2px;stroke-linecap:butt;stroke-linejoin:miter;stroke-opacity:1\"/>\n<text style=\"font-size:7px;font-style:normal;font-weight:normal;fill-opacity:1;stroke:none;font-family:sans-serif;text-anchor:start;fill:#FF0000\" x=\"151.161\" y=\"136.089\"><tspan>O</tspan></text>\n<text style=\"font-size:7px;font-style:normal;font-weight:normal;fill-opacity:1;stroke:none;font-family:sans-serif;text-anchor:start;fill:#FF0000\" x=\"41.7637\" y=\"136.089\"><tspan>O</tspan></text>\n<text style=\"font-size:7px;font-style:normal;font-weight:normal;fill-opacity:1;stroke:none;font-family:sans-serif;text-anchor:start;fill:#0000FF\" x=\"85.3532\" y=\"95.6441\"><tspan>N</tspan></text>\n</svg>"
     },
     "metadata": {},
     "output_type": "display_data"
    }
   ],
   "source": [
    "df = pd.read_pickle('./Targets/targets_Base.pkl')\n",
    "target = df.loc[df.RouteScore.idxmin()]\n",
    "gen.draw_mols([target.pentamer])"
   ],
   "metadata": {
    "collapsed": false,
    "pycharm": {
     "name": "#%%\n"
    }
   }
  },
  {
   "cell_type": "markdown",
   "source": [
    "Step 1"
   ],
   "metadata": {
    "collapsed": false,
    "pycharm": {
     "name": "#%% md\n"
    }
   }
  },
  {
   "cell_type": "code",
   "execution_count": 140,
   "outputs": [
    {
     "data": {
      "text/plain": "<PIL.PngImagePlugin.PngImageFile image mode=RGB size=800x200 at 0x7F91D9563FD0>",
      "image/png": "[encoded data removed]"
     },
     "execution_count": 140,
     "metadata": {},
     "output_type": "execute_result"
    }
   ],
   "source": [
    "scale = 0.0001\n",
    "rxn_smi = f'{target.a}.{target.b}>>{target.ab}'\n",
    "rxn_obj = Reactions.ReactionFromSmarts(rxn_smi, useSmiles=True)\n",
    "Draw.ReactionToImage(rxn_obj)"
   ],
   "metadata": {
    "collapsed": false,
    "pycharm": {
     "name": "#%%\n"
    }
   }
  },
  {
   "cell_type": "markdown",
   "source": [
    "This next cell is the equivalent of `Reaction_Templates.wingSuzuki()`."
   ],
   "metadata": {
    "collapsed": false,
    "pycharm": {
     "name": "#%% md\n"
    }
   }
  },
  {
   "cell_type": "code",
   "execution_count": 141,
   "outputs": [
    {
     "name": "stdout",
     "output_type": "stream",
     "text": [
      "Number of reaction sites on the molecule: 1\n",
      "Updated equivalents of OB(O)c1ccco1: 3\n",
      "Scale of reaction: 0.0001 mols\n",
      "Assumed reaction yield: 100%\n"
     ]
    }
   ],
   "source": [
    "# List of reactant molecules and eq per reaction site\n",
    "sm_list = [{'smiles': target.a, 'eq': 3},\n",
    "           {'smiles': target.b, 'eq': 1}\n",
    "           ]\n",
    "# Number of reaction sites on the B molecule (1)\n",
    "rxn_sites = rxn.stoichiometry(target.b, 'Suzuki')\n",
    "print(f'Number of reaction sites on the molecule: {rxn_sites}')\n",
    "# Total equivalents of A molecule\n",
    "sm_list[0]['eq'] = rxn_sites * sm_list[0]['eq']\n",
    "print(f\"Updated equivalents of {target.a}: {sm_list[0]['eq']}\")\n",
    "# Unlike subsequent reactions, scale isn't normalized because for the limiting reagent\n",
    "# We treat commercially available materials as being available in essentially unlimited quantities\n",
    "wS_scale: float = scale\n",
    "print(f'Scale of reaction: {wS_scale} mols')\n",
    "wS_yield: float = 1\n",
    "print('Assumed reaction yield: 100%')"
   ],
   "metadata": {
    "collapsed": false,
    "pycharm": {
     "name": "#%%\n"
    }
   }
  },
  {
   "cell_type": "markdown",
   "source": [
    "These next cells are the equivalent of `Calculate.StepScore()`."
   ],
   "metadata": {
    "collapsed": false,
    "pycharm": {
     "name": "#%% md\n"
    }
   }
  },
  {
   "cell_type": "code",
   "execution_count": 142,
   "outputs": [],
   "source": [
    "multiplier = rxn_sites\n",
    "product_smiles = target.ab"
   ],
   "metadata": {
    "collapsed": false,
    "pycharm": {
     "name": "#%%\n"
    }
   }
  },
  {
   "cell_type": "code",
   "execution_count": 143,
   "outputs": [
    {
     "data": {
      "text/plain": "[{'Block_type': 'a',\n  'Block_num': 5,\n  'Name': 'furan-2-ylboronic acid',\n  'SMILES': 'OB(O)c1ccco1',\n  'g/mol': 111.893,\n  'CAD': 69.0,\n  'Quantity': 1.0,\n  '$/mol': 7720.617,\n  'Manual?': nan},\n {'Block_type': 'b',\n  'Block_num': 1,\n  'Name': '2-(2-bromophenyl)-6-methyl-1,3,6,2-dioxazaborocane-4,8-dione',\n  'SMILES': 'C[N+]12CC(=O)O[B-]1(c1ccccc1Br)OC(=O)C2',\n  'g/mol': 311.928,\n  'CAD': 19.1,\n  'Quantity': 1.0,\n  '$/mol': 5957.8248,\n  'Manual?': nan}]"
     },
     "execution_count": 143,
     "metadata": {},
     "output_type": "execute_result"
    }
   ],
   "source": [
    "# Get information on starting materials from inventory\n",
    "block_dicts = [calc.get_block_info(sm['smiles']) for sm in sm_list]\n",
    "block_dicts"
   ],
   "metadata": {
    "collapsed": false,
    "pycharm": {
     "name": "#%%\n"
    }
   }
  },
  {
   "cell_type": "code",
   "execution_count": 144,
   "outputs": [
    {
     "data": {
      "text/plain": "[{'$/mol': 137960, 'g/mol': 786.8, 'eq': 0.05, 'name': 'XPhos Pd G2'},\n {'$/mol': 196.98, 'g/mol': 212.27, 'eq': 2, 'name': 'K3PO4'}]"
     },
     "execution_count": 144,
     "metadata": {},
     "output_type": "execute_result"
    }
   ],
   "source": [
    "# Get information on reagents for the reaction\n",
    "reaction = gen.load_pkl(TYPE_DIR, 'Suzuki')\n",
    "reaction\n"
   ],
   "metadata": {
    "collapsed": false,
    "pycharm": {
     "name": "#%%\n"
    }
   }
  },
  {
   "cell_type": "markdown",
   "source": [
    "Calculate costs of synthesis"
   ],
   "metadata": {
    "collapsed": false
   }
  },
  {
   "cell_type": "code",
   "execution_count": 145,
   "outputs": [
    {
     "name": "stdout",
     "output_type": "stream",
     "text": [
      "The following numbers assumed that the robot is being used to its full capacity (48 parallel reactions).\n",
      "Number of reactions performed in parallel: 48\n",
      "t_H: 0.052083333333333336 hrs\n",
      "t_M: 0.5833333333333334 hrs\n"
     ]
    }
   ],
   "source": [
    "# Get reaction summary information\n",
    "rxn_smry = gen.load_pkl(SMRY_DIR, 'Suzuki_summary')\n",
    "print('The following numbers assumed that the robot is being used to its full capacity (48 parallel reactions).')\n",
    "n_parr: int = rxn_smry['n_parr']\n",
    "print(f'Number of reactions performed in parallel: {n_parr}')\n",
    "t_H: float = rxn_smry['t_H'] / n_parr\n",
    "print(f't_H: {t_H} hrs')\n",
    "t_M: float = rxn_smry['t_M'] / n_parr\n",
    "print(f't_M: {t_M} hrs')\n"
   ],
   "metadata": {
    "collapsed": false,
    "pycharm": {
     "name": "#%%\n"
    }
   }
  },
  {
   "cell_type": "code",
   "execution_count": 146,
   "outputs": [
    {
     "name": "stdout",
     "output_type": "stream",
     "text": [
      "Time cost of reaction, TTC = 0.24804259351539967 hrs\n"
     ]
    }
   ],
   "source": [
    "# Time cost\n",
    "cost_time: float = calc.TTC(t_H, t_M)\n",
    "print(f'Time cost of reaction, TTC = {cost_time} hrs')"
   ],
   "metadata": {
    "collapsed": false,
    "pycharm": {
     "name": "#%%\n"
    }
   }
  },
  {
   "cell_type": "code",
   "execution_count": 147,
   "outputs": [
    {
     "name": "stdout",
     "output_type": "stream",
     "text": [
      "Monetary cost of reaction: $16.392517746666666\n"
     ]
    }
   ],
   "source": [
    "# List of equivalents for each reactant\n",
    "sm_eqs = [sm['eq'] for sm in sm_list]\n",
    "block_costs = [sm['$/mol'] for sm in block_dicts]\n",
    "# Monetary cost\n",
    "cost_money, naive_chem_cost = calc.money(reaction,\n",
    "                                         block_costs,\n",
    "                                         sm_eqs,\n",
    "                                         t_H,\n",
    "                                         t_M,\n",
    "                                         scale,\n",
    "                                         multiplier)\n",
    "print(f'Monetary cost of reaction: ${cost_money}')"
   ],
   "metadata": {
    "collapsed": false,
    "pycharm": {
     "name": "#%%\n"
    }
   }
  },
  {
   "cell_type": "code",
   "execution_count": 148,
   "outputs": [
    {
     "name": "stdout",
     "output_type": "stream",
     "text": [
      "Mass cost of reaction: 0.11114870000000002g\n"
     ]
    }
   ],
   "source": [
    "block_MWs = [sm['g/mol'] for sm in block_dicts]\n",
    "# Materials cost\n",
    "cost_materials: float = calc.mass(reaction,\n",
    "                                  block_MWs,\n",
    "                                  sm_eqs,\n",
    "                                  scale,\n",
    "                                  multiplier)\n",
    "print(f'Mass cost of reaction: {cost_materials}g')"
   ],
   "metadata": {
    "collapsed": false,
    "pycharm": {
     "name": "#%%\n"
    }
   }
  },
  {
   "cell_type": "code",
   "execution_count": 149,
   "outputs": [
    {
     "name": "stdout",
     "output_type": "stream",
     "text": [
      "StepScore for reaction 1 = 0.45193535092749476 h*$*g\n"
     ]
    }
   ],
   "source": [
    "step_score_1 = cost_time * cost_money * cost_materials\n",
    "print(f'StepScore for reaction 1 = {step_score_1} h*$*g')"
   ],
   "metadata": {
    "collapsed": false,
    "pycharm": {
     "name": "#%%\n"
    }
   }
  },
  {
   "cell_type": "markdown",
   "source": [
    "Updating inventory."
   ],
   "metadata": {
    "collapsed": false,
    "pycharm": {
     "name": "#%% md\n"
    }
   }
  },
  {
   "cell_type": "code",
   "execution_count": 150,
   "outputs": [],
   "source": [
    "MW: float = Descriptors.MolWt(Chem.MolFromSmiles(product_smiles))\n",
    "\n",
    "# Add product information to inventory\n",
    "product_dict: dict = {\n",
    "                      'Block_type': '-',\n",
    "                      'Block_num': 0,\n",
    "                      'SMILES': product_smiles,\n",
    "                      'Name': '-',\n",
    "                      'g/mol': MW,\n",
    "                      'Quantity': 0,\n",
    "                      'CAD': 0,\n",
    "                      '$/mol': 0,\n",
    "                      'Manual?': ''\n",
    "                      }\n",
    "calc.update_inventory(product_smiles, product_dict)\n",
    "\n",
    "calc.inv.to_csv('./Inventory/Inventory.csv', index=False)\n"
   ],
   "metadata": {
    "collapsed": false,
    "pycharm": {
     "name": "#%%\n"
    }
   }
  },
  {
   "cell_type": "markdown",
   "source": [
    "Step 2"
   ],
   "metadata": {
    "collapsed": false,
    "pycharm": {
     "name": "#%% md\n"
    }
   }
  },
  {
   "cell_type": "code",
   "execution_count": 151,
   "outputs": [
    {
     "data": {
      "text/plain": "<PIL.PngImagePlugin.PngImageFile image mode=RGB size=800x200 at 0x7F91A845BA10>",
      "image/png": "[encoded data removed]"
     },
     "execution_count": 151,
     "metadata": {},
     "output_type": "execute_result"
    }
   ],
   "source": [
    "scale = wS_scale * wS_yield\n",
    "rxn_smi = f'{target.ab}.{target.c}>>{target.pentamer}'\n",
    "rxn_obj = Reactions.ReactionFromSmarts(rxn_smi, useSmiles=True)\n",
    "Draw.ReactionToImage(rxn_obj)"
   ],
   "metadata": {
    "collapsed": false,
    "pycharm": {
     "name": "#%%\n"
    }
   }
  },
  {
   "cell_type": "markdown",
   "source": [
    "This next cell is the equivalent of `Reaction_Templates.pentamerSuzuki()`."
   ],
   "metadata": {
    "collapsed": false
   }
  },
  {
   "cell_type": "code",
   "execution_count": 152,
   "outputs": [
    {
     "name": "stdout",
     "output_type": "stream",
     "text": [
      "Number of reaction sites on the molecule: 2\n",
      "Updated equivalents of C[N+]12CC(=O)O[B-]1(c1ccccc1-c1ccco1)OC(=O)C2: 6\n",
      "Scale of reaction: 1.6666666666666667e-05 mols\n",
      "Assumed reaction yield: 100%\n"
     ]
    }
   ],
   "source": [
    "# List of reactant molecules and eq per reaction site\n",
    "sm_list = [{'smiles': target.ab, 'eq': 3},\n",
    "           {'smiles': target.c, 'eq': 1}\n",
    "           ]\n",
    "# Number of reaction sites on the B molecule (1)\n",
    "rxn_sites = rxn.stoichiometry(target.c, 'Suzuki')\n",
    "print(f'Number of reaction sites on the molecule: {rxn_sites}')\n",
    "# Total equivalents of A molecule\n",
    "sm_list[0]['eq'] = rxn_sites * sm_list[0]['eq']\n",
    "print(f\"Updated equivalents of {target.ab}: {sm_list[0]['eq']}\")\n",
    "# Normalize scale for quantity of limiting reagent (AB)\n",
    "pS_scale: float = scale / sm_list[0]['eq']\n",
    "print(f'Scale of reaction: {pS_scale} mols')\n",
    "pS_yield: float = 1\n",
    "print('Assumed reaction yield: 100%')"
   ],
   "metadata": {
    "collapsed": false,
    "pycharm": {
     "name": "#%%\n"
    }
   }
  },
  {
   "cell_type": "markdown",
   "source": [
    "These next cells are the equivalent of `Calculate.StepScore()`."
   ],
   "metadata": {
    "collapsed": false
   }
  },
  {
   "cell_type": "code",
   "execution_count": 153,
   "outputs": [],
   "source": [
    "multiplier = rxn_sites\n",
    "product_smiles = target.pentamer"
   ],
   "metadata": {
    "collapsed": false,
    "pycharm": {
     "name": "#%%\n"
    }
   }
  },
  {
   "cell_type": "code",
   "execution_count": 154,
   "outputs": [
    {
     "data": {
      "text/plain": "[{'Block_type': '-',\n  'Block_num': 0,\n  'Name': '-',\n  'SMILES': 'C[N+]12CC(=O)O[B-]1(c1ccccc1-c1ccco1)OC(=O)C2',\n  'g/mol': 299.091,\n  'CAD': 0.0,\n  'Quantity': 0.0,\n  '$/mol': 0.0,\n  'Manual?': nan},\n {'Block_type': 'c',\n  'Block_num': 18,\n  'Name': '2,5-dibromopyridine',\n  'SMILES': 'Brc1ccc(Br)nc1',\n  'g/mol': 236.894,\n  'CAD': 110.0,\n  'Quantity': 10.0,\n  '$/mol': 2605.834,\n  'Manual?': nan}]"
     },
     "execution_count": 154,
     "metadata": {},
     "output_type": "execute_result"
    }
   ],
   "source": [
    "# Get information on starting materials from inventory\n",
    "block_dicts = [calc.get_block_info(sm['smiles']) for sm in sm_list]\n",
    "block_dicts"
   ],
   "metadata": {
    "collapsed": false,
    "pycharm": {
     "name": "#%%\n"
    }
   }
  },
  {
   "cell_type": "code",
   "execution_count": 155,
   "outputs": [
    {
     "data": {
      "text/plain": "[{'$/mol': 137960, 'g/mol': 786.8, 'eq': 0.05, 'name': 'XPhos Pd G2'},\n {'$/mol': 196.98, 'g/mol': 212.27, 'eq': 2, 'name': 'K3PO4'}]"
     },
     "execution_count": 155,
     "metadata": {},
     "output_type": "execute_result"
    }
   ],
   "source": [
    "# Get information on reagents for the reaction\n",
    "reaction = gen.load_pkl(TYPE_DIR, 'Suzuki')\n",
    "reaction"
   ],
   "metadata": {
    "collapsed": false,
    "pycharm": {
     "name": "#%%\n"
    }
   }
  },
  {
   "cell_type": "markdown",
   "source": [
    "Calculate costs of synthesis"
   ],
   "metadata": {
    "collapsed": false
   }
  },
  {
   "cell_type": "code",
   "execution_count": 156,
   "outputs": [
    {
     "name": "stdout",
     "output_type": "stream",
     "text": [
      "The following numbers assumed that the robot is being used to its full capacity (48 parallel reactions).\n",
      "Number of reactions performed in parallel: 48\n",
      "t_H: 0.052083333333333336 hrs\n",
      "t_M: 0.5833333333333334 hrs\n"
     ]
    }
   ],
   "source": [
    "# Get reaction summary information\n",
    "rxn_smry = gen.load_pkl(SMRY_DIR, 'Suzuki_summary')\n",
    "print('The following numbers assumed that the robot is being used to its full capacity (48 parallel reactions).')\n",
    "n_parr: int = rxn_smry['n_parr']\n",
    "print(f'Number of reactions performed in parallel: {n_parr}')\n",
    "t_H: float = rxn_smry['t_H'] / n_parr\n",
    "print(f't_H: {t_H} hrs')\n",
    "t_M: float = rxn_smry['t_M'] / n_parr\n",
    "print(f't_M: {t_M} hrs')"
   ],
   "metadata": {
    "collapsed": false,
    "pycharm": {
     "name": "#%%\n"
    }
   }
  },
  {
   "cell_type": "code",
   "execution_count": 157,
   "outputs": [
    {
     "name": "stdout",
     "output_type": "stream",
     "text": [
      "Time cost of reaction, TTC = 0.24804259351539967 hrs\n"
     ]
    }
   ],
   "source": [
    "# Time cost\n",
    "cost_time: float = calc.TTC(t_H, t_M)\n",
    "print(f'Time cost of reaction, TTC = {cost_time} hrs')"
   ],
   "metadata": {
    "collapsed": false,
    "pycharm": {
     "name": "#%%\n"
    }
   }
  },
  {
   "cell_type": "code",
   "execution_count": 158,
   "outputs": [
    {
     "name": "stdout",
     "output_type": "stream",
     "text": [
      "Monetary cost of reaction: $13.037850066666666\n"
     ]
    }
   ],
   "source": [
    "# List of equivalents for each reactant\n",
    "sm_eqs = [sm['eq'] for sm in sm_list]\n",
    "block_costs = [sm['$/mol'] for sm in block_dicts]\n",
    "# Monetary cost\n",
    "cost_money, naive_chem_cost = calc.money(reaction,\n",
    "                                         block_costs,\n",
    "                                         sm_eqs,\n",
    "                                         t_H,\n",
    "                                         t_M,\n",
    "                                         pS_scale,\n",
    "                                         multiplier)\n",
    "print(f'Monetary cost of reaction: ${cost_money}')"
   ],
   "metadata": {
    "collapsed": false,
    "pycharm": {
     "name": "#%%\n"
    }
   }
  },
  {
   "cell_type": "code",
   "execution_count": 159,
   "outputs": [
    {
     "name": "stdout",
     "output_type": "stream",
     "text": [
      "Mass cost of reaction: 0.04932g\n"
     ]
    }
   ],
   "source": [
    "block_MWs = [sm['g/mol'] for sm in block_dicts]\n",
    "# Materials cost\n",
    "cost_materials: float = calc.mass(reaction,\n",
    "                                  block_MWs,\n",
    "                                  sm_eqs,\n",
    "                                  pS_scale,\n",
    "                                  multiplier)\n",
    "print(f'Mass cost of reaction: {cost_materials}g')"
   ],
   "metadata": {
    "collapsed": false,
    "pycharm": {
     "name": "#%%\n"
    }
   }
  },
  {
   "cell_type": "code",
   "execution_count": 160,
   "outputs": [
    {
     "name": "stdout",
     "output_type": "stream",
     "text": [
      "StepScore for reaction 2 = 0.1594980265618537 h*$*g\n"
     ]
    }
   ],
   "source": [
    "step_score_2 = cost_time * cost_money * cost_materials\n",
    "print(f'StepScore for reaction 2 = {step_score_2} h*$*g')"
   ],
   "metadata": {
    "collapsed": false,
    "pycharm": {
     "name": "#%%\n"
    }
   }
  },
  {
   "cell_type": "markdown",
   "source": [
    "Updating inventory."
   ],
   "metadata": {
    "collapsed": false
   }
  },
  {
   "cell_type": "code",
   "execution_count": 161,
   "outputs": [],
   "source": [
    "MW: float = Descriptors.MolWt(Chem.MolFromSmiles(product_smiles))\n",
    "\n",
    "# Add product information to inventory\n",
    "product_dict: dict = {\n",
    "                      'Block_type': '-',\n",
    "                      'Block_num': 0,\n",
    "                      'SMILES': product_smiles,\n",
    "                      'Name': '-',\n",
    "                      'g/mol': MW,\n",
    "                      'Quantity': 0,\n",
    "                      'CAD': 0,\n",
    "                      '$/mol': 0,\n",
    "                      'Manual?': ''\n",
    "                      }\n",
    "calc.update_inventory(product_smiles, product_dict)\n",
    "\n",
    "calc.inv.to_csv('./Inventory/Inventory.csv', index=False)"
   ],
   "metadata": {
    "collapsed": false,
    "pycharm": {
     "name": "#%%\n"
    }
   }
  },
  {
   "cell_type": "code",
   "execution_count": 162,
   "outputs": [
    {
     "data": {
      "text/plain": "1.6666666666666667e-05"
     },
     "execution_count": 162,
     "metadata": {},
     "output_type": "execute_result"
    }
   ],
   "source": [
    "final_scale = pS_scale * pS_yield\n",
    "final_scale"
   ],
   "metadata": {
    "collapsed": false,
    "pycharm": {
     "name": "#%%\n"
    }
   }
  },
  {
   "cell_type": "markdown",
   "source": [
    "Calculate RouteScore."
   ],
   "metadata": {
    "collapsed": false,
    "pycharm": {
     "name": "#%% md\n"
    }
   }
  },
  {
   "cell_type": "code",
   "execution_count": 163,
   "outputs": [
    {
     "name": "stdout",
     "output_type": "stream",
     "text": [
      "RouteScore = 36686.002649360904 h*$*g/(mol target)\n"
     ]
    }
   ],
   "source": [
    "route_score = (step_score_1 + step_score_2) / final_scale\n",
    "print(f'RouteScore = {route_score} h*$*g/(mol target)')"
   ],
   "metadata": {
    "collapsed": false,
    "pycharm": {
     "name": "#%%\n"
    }
   }
  },
  {
   "cell_type": "markdown",
   "source": [
    "Check that RouteScore calculated in the Jupyter notebook matches the stored RouteScore."
   ],
   "metadata": {
    "collapsed": false,
    "pycharm": {
     "name": "#%% md\n"
    }
   }
  },
  {
   "cell_type": "code",
   "execution_count": 164,
   "outputs": [
    {
     "name": "stdout",
     "output_type": "stream",
     "text": [
      "RouteScore calculated here: 36686.002649360904\n",
      "Stored RouteScore: 36686.00264936091\n",
      "True\n",
      "Success!\n"
     ]
    }
   ],
   "source": [
    "print(f'RouteScore calculated here: {route_score}')\n",
    "here = round(route_score, 10)\n",
    "print(f'Stored RouteScore: {target.RouteScore}')\n",
    "stored = round(target.RouteScore, 10)\n",
    "print(here == stored)\n",
    "if here == stored:\n",
    "    print('Success!')"
   ],
   "metadata": {
    "collapsed": false,
    "pycharm": {
     "name": "#%%\n"
    }
   }
  }
 ],
 "metadata": {
  "kernelspec": {
   "display_name": "Python 3",
   "language": "python",
   "name": "python3"
  },
  "language_info": {
   "codemirror_mode": {
    "name": "ipython",
    "version": 2
   },
   "file_extension": ".py",
   "mimetype": "text/x-python",
   "name": "python",
   "nbconvert_exporter": "python",
   "pygments_lexer": "ipython2",
   "version": "2.7.6"
  }
 },
 "nbformat": 4,
 "nbformat_minor": 0
}